{
  "cells": [
    {
      "cell_type": "markdown",
      "metadata": {
        "id": "lczLXJ7qiEhn"
      },
      "source": [
        "# Data Types and Structures Assignment\n",
        "\n",
        "Practical questions\n"
      ]
    },
    {
      "cell_type": "markdown",
      "metadata": {
        "id": "Qymn1iCUiEho"
      },
      "source": [
        "### 1. Create a string with your name and print it"
      ]
    },
    {
      "cell_type": "code",
      "metadata": {
        "id": "2QBfQSWCiEho",
        "outputId": "8cb0f0e1-67d7-44d6-8ff3-7c91cc60e150",
        "colab": {
          "base_uri": "https://localhost:8080/"
        }
      },
      "source": [
        "name = 'Mridul Sharma'\n",
        "print(name)"
      ],
      "execution_count": 1,
      "outputs": [
        {
          "output_type": "stream",
          "name": "stdout",
          "text": [
            "Mridul Sharma\n"
          ]
        }
      ]
    },
    {
      "cell_type": "markdown",
      "metadata": {
        "id": "LnejHKewiEho"
      },
      "source": [
        "### 2. Find the length of the string \"Hello World\""
      ]
    },
    {
      "cell_type": "code",
      "metadata": {
        "id": "71jqp8r6iEho",
        "outputId": "55cd6518-6975-44d1-d62e-bd9500671060",
        "colab": {
          "base_uri": "https://localhost:8080/"
        }
      },
      "source": [
        "print(len(\"Hello World\"))"
      ],
      "execution_count": null,
      "outputs": [
        {
          "output_type": "stream",
          "name": "stdout",
          "text": [
            "11\n"
          ]
        }
      ]
    },
    {
      "cell_type": "markdown",
      "metadata": {
        "id": "wG6QIlpmiEhp"
      },
      "source": [
        "### 3. Slice the first 3 characters from the string \"Python Programming\""
      ]
    },
    {
      "cell_type": "code",
      "metadata": {
        "id": "Qf2O6wypiEhp",
        "outputId": "867d68a3-6dc6-46ce-d6f6-d692d8a9bf24",
        "colab": {
          "base_uri": "https://localhost:8080/"
        }
      },
      "source": [
        "print(\"Python Programming\"[:3])"
      ],
      "execution_count": null,
      "outputs": [
        {
          "output_type": "stream",
          "name": "stdout",
          "text": [
            "Pyt\n"
          ]
        }
      ]
    },
    {
      "cell_type": "markdown",
      "metadata": {
        "id": "jnEvmSYoiEhp"
      },
      "source": [
        "### 4. Convert the string \"hello\" to uppercase"
      ]
    },
    {
      "cell_type": "code",
      "metadata": {
        "id": "EhgBQ2VLiEhp",
        "outputId": "e25c2b32-44f7-46e4-e1b1-6bcee8233278",
        "colab": {
          "base_uri": "https://localhost:8080/"
        }
      },
      "source": [
        "print(\"hello\".upper())"
      ],
      "execution_count": null,
      "outputs": [
        {
          "output_type": "stream",
          "name": "stdout",
          "text": [
            "HELLO\n"
          ]
        }
      ]
    },
    {
      "cell_type": "markdown",
      "metadata": {
        "id": "pBD0q0nQiEhp"
      },
      "source": [
        "### 5. Replace the word \"apple\" with \"orange\" in the string \"I like apple\""
      ]
    },
    {
      "cell_type": "code",
      "metadata": {
        "id": "34d_a51iiEhp",
        "outputId": "6fdefa23-ddb2-4b05-81c4-98a11e524937",
        "colab": {
          "base_uri": "https://localhost:8080/"
        }
      },
      "source": [
        "print(\"I like apple\".replace(\"apple\", \"orange\"))"
      ],
      "execution_count": null,
      "outputs": [
        {
          "output_type": "stream",
          "name": "stdout",
          "text": [
            "I like orange\n"
          ]
        }
      ]
    },
    {
      "cell_type": "markdown",
      "metadata": {
        "id": "_2vWz_zyiEhp"
      },
      "source": [
        "### 6. Create a list with numbers 1 to 5 and print it"
      ]
    },
    {
      "cell_type": "code",
      "metadata": {
        "id": "XG80P3KFiEhp",
        "colab": {
          "base_uri": "https://localhost:8080/"
        },
        "outputId": "3f3c2900-2a9f-4809-ab48-4a318b34bb83"
      },
      "source": [
        "numbers = [1, 2, 3, 4, 5]\n",
        "print(numbers)"
      ],
      "execution_count": 2,
      "outputs": [
        {
          "output_type": "stream",
          "name": "stdout",
          "text": [
            "[1, 2, 3, 4, 5]\n"
          ]
        }
      ]
    },
    {
      "cell_type": "markdown",
      "metadata": {
        "id": "jyIvFfFziEhp"
      },
      "source": [
        "### 7. Append the number 10 to the list [1, 2, 3, 4]"
      ]
    },
    {
      "cell_type": "code",
      "metadata": {
        "id": "dSr3xqjWiEhp",
        "colab": {
          "base_uri": "https://localhost:8080/"
        },
        "outputId": "95b8e109-91a6-4453-e2df-ea2ac0870897"
      },
      "source": [
        "lst = [1, 2, 3, 4]\n",
        "lst.append(10)\n",
        "print(lst)"
      ],
      "execution_count": 3,
      "outputs": [
        {
          "output_type": "stream",
          "name": "stdout",
          "text": [
            "[1, 2, 3, 4, 10]\n"
          ]
        }
      ]
    },
    {
      "cell_type": "markdown",
      "metadata": {
        "id": "yDtj29RpiEhp"
      },
      "source": [
        "### 8. Remove the number 3 from the list [1, 2, 3, 4, 5]"
      ]
    },
    {
      "cell_type": "code",
      "metadata": {
        "id": "ffxV7vOniEhp",
        "colab": {
          "base_uri": "https://localhost:8080/"
        },
        "outputId": "8b039716-e709-4605-cf19-fe9040d6c4d2"
      },
      "source": [
        "lst = [1, 2, 3, 4, 5]\n",
        "lst.remove(3)\n",
        "print(lst)"
      ],
      "execution_count": 4,
      "outputs": [
        {
          "output_type": "stream",
          "name": "stdout",
          "text": [
            "[1, 2, 4, 5]\n"
          ]
        }
      ]
    },
    {
      "cell_type": "markdown",
      "metadata": {
        "id": "Tn-H8XBsiEhp"
      },
      "source": [
        "### 9. Access the second element in the list ['a', 'b', 'c', 'd']"
      ]
    },
    {
      "cell_type": "code",
      "metadata": {
        "id": "Jkv_Ij7wiEhp",
        "colab": {
          "base_uri": "https://localhost:8080/"
        },
        "outputId": "e4335edb-03d5-485c-f840-70cc43237652"
      },
      "source": [
        "print(['a', 'b', 'c', 'd'][1])"
      ],
      "execution_count": 5,
      "outputs": [
        {
          "output_type": "stream",
          "name": "stdout",
          "text": [
            "b\n"
          ]
        }
      ]
    },
    {
      "cell_type": "markdown",
      "metadata": {
        "id": "xcrxHGF6iEhp"
      },
      "source": [
        "### 10. Reverse the list [10, 20, 30, 40, 50]"
      ]
    },
    {
      "cell_type": "code",
      "metadata": {
        "id": "204Jv7-BiEhp",
        "colab": {
          "base_uri": "https://localhost:8080/"
        },
        "outputId": "24f39ae8-4fed-4a28-940f-27ac7d904011"
      },
      "source": [
        "lst = [10, 20, 30, 40, 50]\n",
        "lst.reverse()\n",
        "print(lst)"
      ],
      "execution_count": 6,
      "outputs": [
        {
          "output_type": "stream",
          "name": "stdout",
          "text": [
            "[50, 40, 30, 20, 10]\n"
          ]
        }
      ]
    },
    {
      "cell_type": "markdown",
      "metadata": {
        "id": "nFFPdSJoiEhq"
      },
      "source": [
        "### 11. Create a tuple with the elements 100, 200, 300 and print it"
      ]
    },
    {
      "cell_type": "code",
      "metadata": {
        "id": "fzbHiM4ViEhq",
        "colab": {
          "base_uri": "https://localhost:8080/"
        },
        "outputId": "e8d4650f-9ee6-444d-8fb0-a406cee521e6"
      },
      "source": [
        "tpl = (100, 200, 300)\n",
        "print(tpl)"
      ],
      "execution_count": 7,
      "outputs": [
        {
          "output_type": "stream",
          "name": "stdout",
          "text": [
            "(100, 200, 300)\n"
          ]
        }
      ]
    },
    {
      "cell_type": "markdown",
      "metadata": {
        "id": "QiJbqZJdiEhq"
      },
      "source": [
        "### 12. Access the second-to-last element of the tuple ('red', 'green', 'blue', 'yellow')"
      ]
    },
    {
      "cell_type": "code",
      "metadata": {
        "id": "u8zdiFrEiEhq",
        "colab": {
          "base_uri": "https://localhost:8080/"
        },
        "outputId": "690e3b8e-0cfe-4512-c39d-63c4dbabc42c"
      },
      "source": [
        "tpl = ('red', 'green', 'blue', 'yellow')\n",
        "print(tpl[-2])"
      ],
      "execution_count": 8,
      "outputs": [
        {
          "output_type": "stream",
          "name": "stdout",
          "text": [
            "blue\n"
          ]
        }
      ]
    },
    {
      "cell_type": "markdown",
      "metadata": {
        "id": "y-zsaZ6WiEhq"
      },
      "source": [
        "### 13. Find the minimum number in the tuple (10, 20, 5, 15)"
      ]
    },
    {
      "cell_type": "code",
      "metadata": {
        "id": "NwdTQwXPiEhq",
        "colab": {
          "base_uri": "https://localhost:8080/"
        },
        "outputId": "f8253487-4202-40fc-a623-68205ce03683"
      },
      "source": [
        "print(min((10, 20, 5, 15)))"
      ],
      "execution_count": 9,
      "outputs": [
        {
          "output_type": "stream",
          "name": "stdout",
          "text": [
            "5\n"
          ]
        }
      ]
    },
    {
      "cell_type": "markdown",
      "metadata": {
        "id": "f1vkI0vqiEhq"
      },
      "source": [
        "### 14. Find the index of the element \"cat\" in the tuple ('dog', 'cat', 'rabbit')"
      ]
    },
    {
      "cell_type": "code",
      "metadata": {
        "id": "8bM-knoXiEhq",
        "colab": {
          "base_uri": "https://localhost:8080/"
        },
        "outputId": "12115ba6-c649-472b-cdfb-4567cb2071d5"
      },
      "source": [
        "print(('dog', 'cat', 'rabbit').index('cat'))"
      ],
      "execution_count": 10,
      "outputs": [
        {
          "output_type": "stream",
          "name": "stdout",
          "text": [
            "1\n"
          ]
        }
      ]
    },
    {
      "cell_type": "markdown",
      "metadata": {
        "id": "I0hnxqNLiEhq"
      },
      "source": [
        "### 15. Create a tuple containing three different fruits and check if \"kiwi\" is in it"
      ]
    },
    {
      "cell_type": "code",
      "metadata": {
        "id": "GD0h9NTeiEhq",
        "colab": {
          "base_uri": "https://localhost:8080/"
        },
        "outputId": "a01463c0-1794-41ee-b1dd-a128bc50063c"
      },
      "source": [
        "fruits = ('apple', 'banana', 'cherry')\n",
        "print(\"kiwi\" in fruits)"
      ],
      "execution_count": 11,
      "outputs": [
        {
          "output_type": "stream",
          "name": "stdout",
          "text": [
            "False\n"
          ]
        }
      ]
    },
    {
      "cell_type": "markdown",
      "metadata": {
        "id": "Crn3jkt8iEhq"
      },
      "source": [
        "### 16. Create a set with the elements 'a', 'b', 'c' and print it"
      ]
    },
    {
      "cell_type": "code",
      "metadata": {
        "id": "InzujHhniEhq",
        "colab": {
          "base_uri": "https://localhost:8080/"
        },
        "outputId": "8fff7b06-08c5-41df-9320-62ec1b015f3e"
      },
      "source": [
        "print({'a', 'b', 'c'})"
      ],
      "execution_count": 12,
      "outputs": [
        {
          "output_type": "stream",
          "name": "stdout",
          "text": [
            "{'b', 'a', 'c'}\n"
          ]
        }
      ]
    },
    {
      "cell_type": "markdown",
      "metadata": {
        "id": "F4Q5CZ0HiEhq"
      },
      "source": [
        "### 17. Clear all elements from the set {1, 2, 3, 4, 5}"
      ]
    },
    {
      "cell_type": "code",
      "metadata": {
        "id": "Nmtys9reiEhq",
        "colab": {
          "base_uri": "https://localhost:8080/"
        },
        "outputId": "a7fdff23-6ffe-4bbb-d0b8-738ba443cd39"
      },
      "source": [
        "s = {1, 2, 3, 4, 5}\n",
        "s.clear()\n",
        "print(s)"
      ],
      "execution_count": 13,
      "outputs": [
        {
          "output_type": "stream",
          "name": "stdout",
          "text": [
            "set()\n"
          ]
        }
      ]
    },
    {
      "cell_type": "markdown",
      "metadata": {
        "id": "e4bMeq44iEhq"
      },
      "source": [
        "### 18. Remove the element 4 from the set {1, 2, 3, 4}"
      ]
    },
    {
      "cell_type": "code",
      "metadata": {
        "id": "rv8T7AI6iEhq",
        "colab": {
          "base_uri": "https://localhost:8080/"
        },
        "outputId": "c5da1d09-54bf-43a2-e84f-ca405d55f372"
      },
      "source": [
        "s = {1, 2, 3, 4}\n",
        "s.remove(4)\n",
        "print(s)"
      ],
      "execution_count": 14,
      "outputs": [
        {
          "output_type": "stream",
          "name": "stdout",
          "text": [
            "{1, 2, 3}\n"
          ]
        }
      ]
    },
    {
      "cell_type": "markdown",
      "metadata": {
        "id": "iIwEL3aeiEhq"
      },
      "source": [
        "### 19. Find the union of two sets {1, 2, 3} and {3, 4, 5}"
      ]
    },
    {
      "cell_type": "code",
      "metadata": {
        "id": "Y5TyHlb3iEhq",
        "colab": {
          "base_uri": "https://localhost:8080/"
        },
        "outputId": "15b79bcd-8994-492f-c0fe-09dda3c09ad8"
      },
      "source": [
        "print({1, 2, 3}.union({3, 4, 5}))"
      ],
      "execution_count": 15,
      "outputs": [
        {
          "output_type": "stream",
          "name": "stdout",
          "text": [
            "{1, 2, 3, 4, 5}\n"
          ]
        }
      ]
    },
    {
      "cell_type": "markdown",
      "metadata": {
        "id": "jgrkJzDFiEh1"
      },
      "source": [
        "### 20. Find the intersection of two sets {1, 2, 3} and {2, 3, 4}"
      ]
    },
    {
      "cell_type": "code",
      "metadata": {
        "id": "e1h6UGPwiEh1",
        "colab": {
          "base_uri": "https://localhost:8080/"
        },
        "outputId": "81517a2c-9ece-43d5-d222-abdb25d53425"
      },
      "source": [
        "print({1, 2, 3}.intersection({2, 3, 4}))"
      ],
      "execution_count": 16,
      "outputs": [
        {
          "output_type": "stream",
          "name": "stdout",
          "text": [
            "{2, 3}\n"
          ]
        }
      ]
    },
    {
      "cell_type": "markdown",
      "metadata": {
        "id": "5NRU5EuJiEh1"
      },
      "source": [
        "### 21. Create a dictionary with the keys \"name\", \"age\", and \"city\", and print it"
      ]
    },
    {
      "cell_type": "code",
      "metadata": {
        "id": "EAwk35rDiEh1",
        "colab": {
          "base_uri": "https://localhost:8080/"
        },
        "outputId": "595018b3-2120-40e8-9863-c88bd56c374c"
      },
      "source": [
        "person = {\"name\": \"John\", \"age\": 25, \"city\": \"New York\"}\n",
        "print(person)"
      ],
      "execution_count": 17,
      "outputs": [
        {
          "output_type": "stream",
          "name": "stdout",
          "text": [
            "{'name': 'John', 'age': 25, 'city': 'New York'}\n"
          ]
        }
      ]
    },
    {
      "cell_type": "markdown",
      "metadata": {
        "id": "Q7NtV2UuiEh1"
      },
      "source": [
        "### 22. Add a new key-value pair \"country\": \"USA\" to the dictionary {'name': 'John', 'age': 25}"
      ]
    },
    {
      "cell_type": "code",
      "metadata": {
        "id": "NT8aBH_3iEh1",
        "colab": {
          "base_uri": "https://localhost:8080/"
        },
        "outputId": "370defb0-d7cb-4814-96df-1c0e027f3ad3"
      },
      "source": [
        "person = {'name': 'John', 'age': 25}\n",
        "person['country'] = 'USA'\n",
        "print(person)"
      ],
      "execution_count": 18,
      "outputs": [
        {
          "output_type": "stream",
          "name": "stdout",
          "text": [
            "{'name': 'John', 'age': 25, 'country': 'USA'}\n"
          ]
        }
      ]
    },
    {
      "cell_type": "markdown",
      "metadata": {
        "id": "HNc1dFcCiEh1"
      },
      "source": [
        "### 23. Access the value associated with the key \"name\" in the dictionary {'name': 'Alice', 'age': 30}"
      ]
    },
    {
      "cell_type": "code",
      "metadata": {
        "id": "OMbT8MLciEh1",
        "colab": {
          "base_uri": "https://localhost:8080/"
        },
        "outputId": "7b25295a-f427-48d9-ada1-cea348ff62fa"
      },
      "source": [
        "person = {'name': 'Alice', 'age': 30}\n",
        "print(person['name'])"
      ],
      "execution_count": 19,
      "outputs": [
        {
          "output_type": "stream",
          "name": "stdout",
          "text": [
            "Alice\n"
          ]
        }
      ]
    },
    {
      "cell_type": "markdown",
      "metadata": {
        "id": "-gpQEhymiEh1"
      },
      "source": [
        "### 24. Remove the key \"age\" from the dictionary {'name': 'Bob', 'age': 22, 'city': 'New York'}"
      ]
    },
    {
      "cell_type": "code",
      "metadata": {
        "id": "gonwhmwYiEh1",
        "colab": {
          "base_uri": "https://localhost:8080/"
        },
        "outputId": "81cab485-d4a0-4e4a-ab09-60113e693d61"
      },
      "source": [
        "person = {'name': 'Bob', 'age': 22, 'city': 'New York'}\n",
        "del person['age']\n",
        "print(person)"
      ],
      "execution_count": 20,
      "outputs": [
        {
          "output_type": "stream",
          "name": "stdout",
          "text": [
            "{'name': 'Bob', 'city': 'New York'}\n"
          ]
        }
      ]
    },
    {
      "cell_type": "markdown",
      "metadata": {
        "id": "QkL8qFVgiEh1"
      },
      "source": [
        "### 25. Check if the key \"city\" exists in the dictionary {'name': 'Alice', 'city': 'Paris'}"
      ]
    },
    {
      "cell_type": "code",
      "metadata": {
        "id": "gCC8iKymiEh1",
        "colab": {
          "base_uri": "https://localhost:8080/"
        },
        "outputId": "9c45b7e2-5002-49f9-c58a-6174d07f1823"
      },
      "source": [
        "person = {'name': 'Alice', 'city': 'Paris'}\n",
        "print('city' in person)"
      ],
      "execution_count": 21,
      "outputs": [
        {
          "output_type": "stream",
          "name": "stdout",
          "text": [
            "True\n"
          ]
        }
      ]
    },
    {
      "cell_type": "markdown",
      "metadata": {
        "id": "xCytZtbsiEh1"
      },
      "source": [
        "### 26. Create a list, a tuple, and a dictionary, and print them all"
      ]
    },
    {
      "cell_type": "code",
      "metadata": {
        "id": "YKpXbuqdiEh1",
        "colab": {
          "base_uri": "https://localhost:8080/"
        },
        "outputId": "555c9648-20a3-4f7c-84e6-d91d8a484ece"
      },
      "source": [
        "lst = [1, 2, 3]\n",
        "tpl = (4, 5, 6)\n",
        "dct = {'a': 1, 'b': 2}\n",
        "print(lst, tpl, dct)"
      ],
      "execution_count": 22,
      "outputs": [
        {
          "output_type": "stream",
          "name": "stdout",
          "text": [
            "[1, 2, 3] (4, 5, 6) {'a': 1, 'b': 2}\n"
          ]
        }
      ]
    },
    {
      "cell_type": "markdown",
      "metadata": {
        "id": "O0eltE8PiEh1"
      },
      "source": [
        "### 27. Create a list of 5 random numbers between 1 and 100, sort it in ascending order, and print the result"
      ]
    },
    {
      "cell_type": "code",
      "metadata": {
        "id": "YwvUbSnRiEh1"
      },
      "source": [
        "import random\n",
        "lst = random.sample(range(1, 101), 5)\n",
        "lst.sort()\n",
        "print(lst)"
      ],
      "execution_count": null,
      "outputs": []
    },
    {
      "cell_type": "markdown",
      "metadata": {
        "id": "P-T_-fWriEh1"
      },
      "source": [
        "### 28. Create a list with strings and print the element at the third index"
      ]
    },
    {
      "cell_type": "code",
      "metadata": {
        "id": "um2KtXUMiEh1",
        "colab": {
          "base_uri": "https://localhost:8080/"
        },
        "outputId": "c6a99395-a1a9-49bc-fe75-2f999eb02325"
      },
      "source": [
        "lst = ['apple', 'banana', 'cherry', 'date', 'elderberry']\n",
        "print(lst[3])"
      ],
      "execution_count": 23,
      "outputs": [
        {
          "output_type": "stream",
          "name": "stdout",
          "text": [
            "date\n"
          ]
        }
      ]
    },
    {
      "cell_type": "markdown",
      "metadata": {
        "id": "myyYFl6oiEh1"
      },
      "source": [
        "### 29. Combine two dictionaries into one and print the result"
      ]
    },
    {
      "cell_type": "code",
      "metadata": {
        "id": "BshpB6H8iEh1",
        "colab": {
          "base_uri": "https://localhost:8080/"
        },
        "outputId": "e4757900-801b-43a9-a287-e59eebbe8ea4"
      },
      "source": [
        "d1 = {'a': 1, 'b': 2}\n",
        "d2 = {'c': 3, 'd': 4}\n",
        "d1.update(d2)\n",
        "print(d1)"
      ],
      "execution_count": 24,
      "outputs": [
        {
          "output_type": "stream",
          "name": "stdout",
          "text": [
            "{'a': 1, 'b': 2, 'c': 3, 'd': 4}\n"
          ]
        }
      ]
    },
    {
      "cell_type": "markdown",
      "metadata": {
        "id": "K69mBu9EiEh1"
      },
      "source": [
        "### 30. Convert a list of strings into a set"
      ]
    },
    {
      "cell_type": "code",
      "metadata": {
        "id": "EzYWhn2liEh2",
        "colab": {
          "base_uri": "https://localhost:8080/"
        },
        "outputId": "d8d82651-f01f-465e-9523-6614ba34a7c9"
      },
      "source": [
        "lst = ['apple', 'banana', 'cherry']\n",
        "print(set(lst))"
      ],
      "execution_count": 25,
      "outputs": [
        {
          "output_type": "stream",
          "name": "stdout",
          "text": [
            "{'banana', 'cherry', 'apple'}\n"
          ]
        }
      ]
    },
    {
      "cell_type": "markdown",
      "metadata": {
        "id": "oXUwWvLdiEh2"
      },
      "source": [
        "### 1. What are data structures, and why are they important?"
      ]
    },
    {
      "cell_type": "markdown",
      "metadata": {
        "id": "JdhoEyediEh2"
      },
      "source": [
        "Data structures are ways of organizing and storing data to enable efficient access and modification. They are important because they help in managing large amounts of data efficiently for operations like searching, sorting, insertion, and deletion."
      ]
    },
    {
      "cell_type": "markdown",
      "metadata": {
        "id": "Uz3_-VAdiEh2"
      },
      "source": [
        "### 2. Explain the difference between mutable and immutable data types with examples."
      ]
    },
    {
      "cell_type": "markdown",
      "metadata": {
        "id": "FMyy9t9eiEh2"
      },
      "source": [
        "Mutable data types can be changed after creation (e.g., list, set, dict), whereas immutable data types cannot be changed (e.g., int, float, tuple, string). Example: `list1 = [1, 2]` can be changed, but `tuple1 = (1, 2)` cannot."
      ]
    },
    {
      "cell_type": "markdown",
      "metadata": {
        "id": "VBpcQBwQiEh2"
      },
      "source": [
        "### 3. What are the main differences between lists and tuples in Python?"
      ]
    },
    {
      "cell_type": "markdown",
      "metadata": {
        "id": "bxBe0i1CiEh2"
      },
      "source": [
        "Lists are mutable and can be modified, whereas tuples are immutable. Lists use square brackets [] and tuples use parentheses (). Tuples are generally faster than lists."
      ]
    },
    {
      "cell_type": "markdown",
      "metadata": {
        "id": "2cNGZy6WiEh2"
      },
      "source": [
        "### 4. Describe how dictionaries store data."
      ]
    },
    {
      "cell_type": "markdown",
      "metadata": {
        "id": "e220e6FeiEh2"
      },
      "source": [
        "Dictionaries store data as key-value pairs using a hash table under the hood. Each key is hashed to an index where its corresponding value is stored."
      ]
    },
    {
      "cell_type": "markdown",
      "metadata": {
        "id": "9GAN2h7riEh2"
      },
      "source": [
        "### 5. Why might you use a set instead of a list in Python?"
      ]
    },
    {
      "cell_type": "markdown",
      "metadata": {
        "id": "UPyZMNMjiEh2"
      },
      "source": [
        "Sets do not allow duplicate values and offer faster membership testing. They are ideal when uniqueness of elements is required."
      ]
    },
    {
      "cell_type": "markdown",
      "metadata": {
        "id": "LIbg5jxDiEh2"
      },
      "source": [
        "### 6. What is a string in Python, and how is it different from a list?"
      ]
    },
    {
      "cell_type": "markdown",
      "metadata": {
        "id": "ZEdBnkhMiEh2"
      },
      "source": [
        "A string is a sequence of characters and is immutable. A list is a sequence of elements (of any data type) and is mutable."
      ]
    },
    {
      "cell_type": "markdown",
      "metadata": {
        "id": "87q3IWQbiEh2"
      },
      "source": [
        "### 7. How do tuples ensure data integrity in Python?"
      ]
    },
    {
      "cell_type": "markdown",
      "metadata": {
        "id": "jU3TtTCBiEh2"
      },
      "source": [
        "Tuples are immutable, which means their data cannot be changed after creation. This makes them suitable for storing fixed data that should not be altered."
      ]
    },
    {
      "cell_type": "markdown",
      "metadata": {
        "id": "dYliScOsiEh2"
      },
      "source": [
        "### 8. What is a hash table, and how does it relate to dictionaries in Python?"
      ]
    },
    {
      "cell_type": "markdown",
      "metadata": {
        "id": "8lZls2F-iEh2"
      },
      "source": [
        "A hash table is a data structure that maps keys to values using a hash function. Python dictionaries use hash tables internally to store key-value pairs."
      ]
    },
    {
      "cell_type": "markdown",
      "metadata": {
        "id": "0ggVyviJiEh2"
      },
      "source": [
        "### 9. Can lists contain different data types in Python?"
      ]
    },
    {
      "cell_type": "markdown",
      "metadata": {
        "id": "fvDWb8a-iEh2"
      },
      "source": [
        "Yes, lists can contain elements of different data types such as integers, strings, and even other lists."
      ]
    },
    {
      "cell_type": "markdown",
      "metadata": {
        "id": "gWTlvf6_iEh2"
      },
      "source": [
        "### 10. Explain why strings are immutable in Python."
      ]
    },
    {
      "cell_type": "markdown",
      "metadata": {
        "id": "HzJ2KUjFiEh2"
      },
      "source": [
        "Strings are immutable to ensure that they can be used as keys in dictionaries and for performance and memory optimization."
      ]
    },
    {
      "cell_type": "markdown",
      "metadata": {
        "id": "-HKS8RMuiEh2"
      },
      "source": [
        "### 11. What advantages do dictionaries offer over lists for certain tasks?"
      ]
    },
    {
      "cell_type": "markdown",
      "metadata": {
        "id": "Zzq6mSq8iEh2"
      },
      "source": [
        "Dictionaries provide faster lookups using keys and are more suitable when data is organized in key-value pairs."
      ]
    },
    {
      "cell_type": "markdown",
      "metadata": {
        "id": "tIhJdnjviEh3"
      },
      "source": [
        "### 12. Describe a scenario where using a tuple would be preferable over a list."
      ]
    },
    {
      "cell_type": "markdown",
      "metadata": {
        "id": "A3ndcT-wiEh3"
      },
      "source": [
        "When you want to ensure that the data remains constant, such as storing coordinates (x, y), using tuples is preferable due to immutability."
      ]
    },
    {
      "cell_type": "markdown",
      "metadata": {
        "id": "HNy8U5dPiEh3"
      },
      "source": [
        "### 13. How do sets handle duplicate values in Python?"
      ]
    },
    {
      "cell_type": "markdown",
      "metadata": {
        "id": "zRFQI90uiEh3"
      },
      "source": [
        "Sets automatically eliminate duplicate values. Adding a duplicate item has no effect."
      ]
    },
    {
      "cell_type": "markdown",
      "metadata": {
        "id": "LWf11EFhiEh3"
      },
      "source": [
        "### 14. How does the “in” keyword work differently for lists and dictionaries?"
      ]
    },
    {
      "cell_type": "markdown",
      "metadata": {
        "id": "nYdbnWyxiEh3"
      },
      "source": [
        "`in` checks for element presence in lists, but checks for key presence in dictionaries."
      ]
    },
    {
      "cell_type": "markdown",
      "metadata": {
        "id": "Ul3sl_1yiEh3"
      },
      "source": [
        "### 15. Can you modify the elements of a tuple? Explain why or why not."
      ]
    },
    {
      "cell_type": "markdown",
      "metadata": {
        "id": "wYIthcEBiEh3"
      },
      "source": [
        "No, you cannot modify the elements of a tuple because tuples are immutable."
      ]
    },
    {
      "cell_type": "markdown",
      "metadata": {
        "id": "vKt3390wiEh3"
      },
      "source": [
        "### 16. What is a nested dictionary, and give an example of its use case."
      ]
    },
    {
      "cell_type": "markdown",
      "metadata": {
        "id": "hPE72J1eiEh3"
      },
      "source": [
        "A nested dictionary is a dictionary where values are also dictionaries. Example: `{'student': {'name': 'Alice', 'age': 20}}`. It's useful for hierarchical data."
      ]
    },
    {
      "cell_type": "markdown",
      "metadata": {
        "id": "Hf9_WusdiEh3"
      },
      "source": [
        "### 17. Describe the time complexity of accessing elements in a dictionary."
      ]
    },
    {
      "cell_type": "markdown",
      "metadata": {
        "id": "Kjbyu_QtiEh3"
      },
      "source": [
        "Accessing elements in a dictionary has an average time complexity of O(1) due to hashing."
      ]
    },
    {
      "cell_type": "markdown",
      "metadata": {
        "id": "SJawXg08iEh3"
      },
      "source": [
        "### 18. In what situations are lists preferred over dictionaries?"
      ]
    },
    {
      "cell_type": "markdown",
      "metadata": {
        "id": "hGm-C39NiEh3"
      },
      "source": [
        "Lists are preferred when the data is ordered and index-based access is required."
      ]
    },
    {
      "cell_type": "markdown",
      "metadata": {
        "id": "IFNly3NIiEh3"
      },
      "source": [
        "### 19. Why are dictionaries considered unordered, and how does that affect data retrieval?"
      ]
    },
    {
      "cell_type": "markdown",
      "metadata": {
        "id": "zpvPX_s1iEh3"
      },
      "source": [
        "Dictionaries (before Python 3.7) were unordered, meaning key-value pairs had no fixed order. In newer versions, they maintain insertion order, but key-based access is still used instead of indexing."
      ]
    },
    {
      "cell_type": "markdown",
      "metadata": {
        "id": "5mBbB4r3iEh3"
      },
      "source": [
        "### 20. Explain the difference between a list and a dictionary in terms of data retrieval."
      ]
    },
    {
      "cell_type": "markdown",
      "metadata": {
        "id": "kjy0wka5iEh3"
      },
      "source": [
        "Lists retrieve data by index (numeric position), while dictionaries retrieve data by key."
      ]
    }
  ],
  "metadata": {
    "colab": {
      "provenance": []
    },
    "kernelspec": {
      "name": "python3",
      "display_name": "Python 3"
    },
    "language_info": {
      "name": "python",
      "version": "3.x"
    }
  },
  "nbformat": 4,
  "nbformat_minor": 0
}